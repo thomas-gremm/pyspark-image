{
 "cells": [
  {
   "cell_type": "code",
   "execution_count": null,
   "id": "db5fe12b-c5a4-4e48-a366-0c139cffd860",
   "metadata": {
    "tags": []
   },
   "outputs": [],
   "source": [
    "# Some imports to start with\n",
    "import os\n",
    "import socket\n",
    "\n",
    "from IPython.display import Markdown\n",
    "from pyspark import SparkContext, SparkConf\n",
    "from pyspark.sql import SparkSession"
   ]
  },
  {
   "cell_type": "code",
   "execution_count": null,
   "id": "20d417c8-41ad-403b-b768-7f368254a728",
   "metadata": {},
   "outputs": [],
   "source": [
    "# Let's populate some variables that will be useful later on\n",
    "hostname = socket.gethostname()\n",
    "IPAddr = socket.gethostbyname(hostname)\n",
    "nb_prefix = os.getenv('NB_PREFIX')\n",
    "\n",
    "with open('/var/run/secrets/kubernetes.io/serviceaccount/namespace', 'r') as f:\n",
    "    current_namespace = f.readline()"
   ]
  },
  {
   "cell_type": "code",
   "execution_count": null,
   "id": "125c0750-2731-4349-b793-72f054e73ce2",
   "metadata": {},
   "outputs": [],
   "source": [
    "# Create Spark config for our Kubernetes based cluster manager\n",
    "sparkConf = SparkConf()\n",
    "\n",
    "# Kubernetes and image settings\n",
    "sparkConf.setMaster(\"k8s://https://\" + os.environ[\"KUBERNETES_SERVICE_HOST\"] + \":443\")\n",
    "sparkConf.set(\"spark.kubernetes.authenticate.caCertFile\",\"/var/run/secrets/kubernetes.io/serviceaccount/ca.crt\")\n",
    "sparkConf.set(\"spark.submit.deployMode\",\"client\")\n",
    "sparkConf.set(\"spark.kubernetes.container.image\", \"quay.io/opendatahub-contrib/pyspark:s3.3.1-h3.3.4_v0.1.1\")\n",
    "sparkConf.set(\"spark.pyspark.python\", \"3\")\n",
    "sparkConf.set(\"spark.pyspark.driver.python\", \"3\")\n",
    "sparkConf.set(\"spark.kubernetes.namespace\", current_namespace)\n",
    "sparkConf.set(\"spark.driver.blockManager.port\", \"7777\")\n",
    "sparkConf.set(\"spark.driver.host\", IPAddr)\n",
    "sparkConf.set(\"spark.driver.port\", \"2222\")\n",
    "sparkConf.set(\"spark.driver.bindAddress\", \"0.0.0.0\")\n",
    "\n",
    "# Executors configuration\n",
    "sparkConf.set(\"spark.executor.instances\", \"3\")\n",
    "sparkConf.set(\"spark.executor.memory\", \"512m\")\n",
    "sparkConf.set(\"spark.executor.cores\", \"1\")\n",
    "\n",
    "# UI setting for jupyter-proxy compatibility\n",
    "sparkConf.set(\"spark.ui.proxyBase\", nb_prefix + \"/proxy/4040/\")"
   ]
  },
  {
   "cell_type": "code",
   "execution_count": null,
   "id": "917716dc-414e-4641-86d6-58ca7533635d",
   "metadata": {},
   "outputs": [],
   "source": [
    "# Initialize our Spark cluster. This will actually\n",
    "# generate the worker nodes.\n",
    "spark = SparkSession.builder.config(conf=sparkConf).getOrCreate()\n",
    "sc = spark.sparkContext\n",
    "\n",
    "# Give information about the Spark UI access.\n",
    "Markdown('While this Spark context is running, the UI is accessible [here](' + nb_prefix + '/proxy/4040/jobs/).')"
   ]
  },
  {
   "cell_type": "code",
   "execution_count": null,
   "id": "04e93d1d-9bd9-478d-a553-9c9ea67a64d2",
   "metadata": {
    "tags": []
   },
   "outputs": [],
   "source": [
    "# Basic Spark job as a demo\n",
    "from random import random\n",
    "from operator import add\n",
    "\n",
    "partitions = 7\n",
    "n = 10000000 * partitions\n",
    "def f(_):\n",
    "    x = random() * 2 - 1\n",
    "    y = random() * 2 - 1\n",
    "    \n",
    "    return 1 if x ** 2 + y ** 2 <= 1 else 0\n",
    "count = sc.parallelize(range(1, n + 1), partitions).map(f).reduce(add)\n",
    "print(\"Pi is roughly %f\" % (4.0 * count / n))"
   ]
  },
  {
   "cell_type": "code",
   "execution_count": null,
   "id": "8bdab700-c0f3-4f37-b3c7-37464a2aeb01",
   "metadata": {},
   "outputs": [],
   "source": [
    "sc.stop()"
   ]
  }
 ],
 "metadata": {
  "kernelspec": {
   "display_name": "Python 3.9.14",
   "language": "python",
   "name": "python3"
  },
  "language_info": {
   "codemirror_mode": {
    "name": "ipython",
    "version": 3
   },
   "file_extension": ".py",
   "mimetype": "text/x-python",
   "name": "python",
   "nbconvert_exporter": "python",
   "pygments_lexer": "ipython3",
   "version": "3.9.14"
  }
 },
 "nbformat": 4,
 "nbformat_minor": 5
}
